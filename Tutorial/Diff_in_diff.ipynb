{
 "cells": [
  {
   "cell_type": "markdown",
   "metadata": {
    "kernel": "SoS"
   },
   "source": [
    "# Difference in Difference\n",
    "\n",
    "The data is available at this [URL](https://github.com/KubiaPXH/Memoire-M1/raw/master/data/final_air_pollution_30cities.csv)\n",
    "\n",
    "need to install lfe: https://cran.r-project.org/web/packages/lfe/lfe.pdf\n",
    "\n",
    "## ressources\n",
    "\n",
    "If you need extra doc for R:\n",
    "\n",
    "- https://drive.google.com/open?id=1NM_oGxntXh2b0p5mv_oYlkMSx-aXk2Rg\n",
    "- https://drive.google.com/open?id=1Waxak8_PR7VhIwynWoegrVtHn1_Tm2i-\n",
    "- https://drive.google.com/open?id=1RokSoGrwQgwiJfm842Fw5oPhCudWfwrs\n",
    "- https://drive.google.com/open?id=1ADSij1macPea9QhUtzrIWNgQBuJybWRm\n",
    "- https://drive.google.com/open?id=1rs1JZcElwHnKWex8b2c_F49Vxzc3ukfp\n",
    "- https://drive.google.com/open?id=1x77KTmsVA7Q1IFji4gALv1dhNfIvTplc"
   ]
  },
  {
   "cell_type": "code",
   "execution_count": null,
   "metadata": {
    "kernel": "SoS"
   },
   "outputs": [],
   "source": [
    "library(tidyverse)\n",
    "library(lfe)"
   ]
  },
  {
   "cell_type": "markdown",
   "metadata": {},
   "source": [
    "We get the data from Github and then we perform the following steps:\n",
    "\n",
    "- import the data with the correct types\n",
    "- covert character to factor\n",
    "- Make sure of the level reference"
   ]
  },
  {
   "cell_type": "code",
   "execution_count": null,
   "metadata": {
    "kernel": "SoS"
   },
   "outputs": [],
   "source": [
    "url <- paste(\"https://raw.githubusercontent.com/KubiaPXH/Memoire-M1/\",\n",
    "\"master/data/final_air_pollution_30cities.csv\",  sep=\"\")"
   ]
  },
  {
   "cell_type": "code",
   "execution_count": null,
   "metadata": {
    "kernel": "SoS"
   },
   "outputs": [],
   "source": [
    "df_ <- read_csv(url, col_types = cols(\n",
    "  city = col_character(),\n",
    "  year = col_character(),\n",
    "  PM10 = col_double(),\n",
    "  SO2 = col_double(),\n",
    "  NOx = col_double(),\n",
    "  pop_density = col_double(),\n",
    "  GRP_pc = col_double(),\n",
    "  second_industry = col_double(),\n",
    "  gas_supply = col_double(),\n",
    "  green_coveraged = col_double(),\n",
    "  post = col_character(),\n",
    "  key_regions = col_character())\n",
    "               )  %>% \n",
    "mutate_if(is.character, as.factor) %>%\n",
    "mutate(\n",
    "    post = relevel(post, ref='0'),\n",
    "    key_regions = relevel(key_regions, ref='0'),\n",
    "    ## For explanation purpose. Kunming is not in key region\n",
    "    city = relevel(city, ref='Kunming')\n",
    "    \n",
    "    )"
   ]
  },
  {
   "cell_type": "code",
   "execution_count": null,
   "metadata": {
    "kernel": "SoS"
   },
   "outputs": [],
   "source": [
    "glimpse(df_)"
   ]
  },
  {
   "cell_type": "code",
   "execution_count": null,
   "metadata": {},
   "outputs": [],
   "source": [
    "colnames(df_)[ apply(df_, 2, anyNA)] "
   ]
  },
  {
   "cell_type": "code",
   "execution_count": null,
   "metadata": {},
   "outputs": [],
   "source": [
    "#df_ %>% group_by(city) %>% summarize(length(city))"
   ]
  },
  {
   "cell_type": "code",
   "execution_count": null,
   "metadata": {},
   "outputs": [],
   "source": [
    "#df_ %>% group_by(city, key_regions) %>% summarize(length(city))"
   ]
  },
  {
   "cell_type": "code",
   "execution_count": null,
   "metadata": {},
   "outputs": [],
   "source": [
    "#df_ %>% group_by(city, post) %>% summarize(length(city))"
   ]
  },
  {
   "cell_type": "code",
   "execution_count": null,
   "metadata": {},
   "outputs": [],
   "source": [
    "df_ %>% \n",
    "group_by(city, key_regions, post) %>% \n",
    "summarize(avg_pm = mean(log(PM10))) %>% \n",
    "spread(post, avg_pm, sep = \"\")%>%\n",
    "mutate(diff  = post1 -post0 ) %>%\n",
    "arrange(diff) %>%\n",
    "ggplot(aes(x=reorder(city, -diff),y=diff, fill = key_regions))+ \n",
    "geom_bar(stat=\"identity\")+ \n",
    "theme_classic()+ \n",
    "coord_flip()+ \n",
    "labs( x=\"City\",\n",
    "     y=\"Difference PM\", \n",
    "     title =paste( \"Difference of average Log of PM before and after the Policy\" ) )"
   ]
  },
  {
   "cell_type": "code",
   "execution_count": null,
   "metadata": {},
   "outputs": [],
   "source": [
    "summary(df_)"
   ]
  },
  {
   "cell_type": "markdown",
   "metadata": {},
   "source": [
    "# Define the model\n"
   ]
  },
  {
   "cell_type": "markdown",
   "metadata": {},
   "source": [
    "## Test without FE\n",
    "\n",
    "$$ \\text{ln PM 10}_{ci} = \\alpha Post + \\beta \\text{ key region}+ \\alpha Post \\times \\text{key region} + \\epsilon_{ct}$$\n",
    "\n",
    "For the sake of the tutorial, we don't cluster the standard error -> We want to make sure we get the same results "
   ]
  },
  {
   "cell_type": "code",
   "execution_count": null,
   "metadata": {},
   "outputs": [],
   "source": [
    "df_ %>% summarize( mean(log(PM10)))"
   ]
  },
  {
   "cell_type": "code",
   "execution_count": null,
   "metadata": {},
   "outputs": [],
   "source": [
    "model <- log(PM10) ~ post +  key_regions + post:key_regions\n",
    "fit <- lm(model, df_)\n",
    "summary(fit)"
   ]
  },
  {
   "cell_type": "code",
   "execution_count": null,
   "metadata": {},
   "outputs": [],
   "source": [
    "model <- log(PM10) ~ post * key_regions \n",
    "fit <- lm(model, df_)\n",
    "summary(fit)"
   ]
  },
  {
   "cell_type": "markdown",
   "metadata": {},
   "source": [
    "With the FE library"
   ]
  },
  {
   "cell_type": "code",
   "execution_count": null,
   "metadata": {},
   "outputs": [],
   "source": [
    "summary(felm(formula=log(PM10) ~ post +  key_regions + post : key_regions  |\n",
    "             FALSE | 0 |FALSE, data = df_, exactDOF=TRUE))"
   ]
  },
  {
   "cell_type": "code",
   "execution_count": null,
   "metadata": {},
   "outputs": [],
   "source": [
    "summary(felm(formula=log(PM10) ~  post * key_regions  |\n",
    "             FALSE | 0 |FALSE, data = df_, exactDOF=TRUE))"
   ]
  },
  {
   "cell_type": "markdown",
   "metadata": {},
   "source": [
    "## Test with FE\n",
    "\n",
    "We add city fixed effect. It leads therefore to singularities with the interaction term. We should expect that the coefficient `key_regions1` to be dropped \n",
    "\n",
    "$$ \\text{ln PM 10}_{ci} = \\alpha Post + \\alpha Post \\times \\text{key region}+ \\gamma_c + \\epsilon_{ct}$$\n",
    "\n",
    "For the sake of the tutorial, we don't cluster the standard error -> We want to make sure we get the same results \n",
    "\n"
   ]
  },
  {
   "cell_type": "code",
   "execution_count": null,
   "metadata": {},
   "outputs": [],
   "source": [
    "summary(lm(log(PM10) ~ post + key_regions + post:key_regions +city, df_))"
   ]
  },
  {
   "cell_type": "code",
   "execution_count": null,
   "metadata": {},
   "outputs": [],
   "source": [
    "summary(lm(log(PM10) ~ post*key_regions+city, df_))"
   ]
  },
  {
   "cell_type": "code",
   "execution_count": null,
   "metadata": {},
   "outputs": [],
   "source": [
    "4.14993 - 4.21276"
   ]
  },
  {
   "cell_type": "code",
   "execution_count": null,
   "metadata": {},
   "outputs": [],
   "source": [
    "df_ <- read_csv(url, col_types = cols(\n",
    "  city = col_character(),\n",
    "  year = col_character(),\n",
    "  PM10 = col_double(),\n",
    "  SO2 = col_double(),\n",
    "  NOx = col_double(),\n",
    "  pop_density = col_double(),\n",
    "  GRP_pc = col_double(),\n",
    "  second_industry = col_double(),\n",
    "  gas_supply = col_double(),\n",
    "  green_coveraged = col_double(),\n",
    "  post = col_character(),\n",
    "  key_regions = col_character())\n",
    "               )  %>% \n",
    "mutate_if(is.character, as.factor) %>%\n",
    "mutate(\n",
    "    post = relevel(post, ref='1'),\n",
    "    key_regions = relevel(key_regions, ref='0'),\n",
    "    ## For explanation purpose. Kunming is not in key region\n",
    "    city = relevel(city, ref='Kunming')\n",
    "    \n",
    "    )\n",
    "summary(lm(log(PM10) ~ post + post:key_regions+city - 1, df_))"
   ]
  },
  {
   "cell_type": "code",
   "execution_count": null,
   "metadata": {},
   "outputs": [],
   "source": [
    "df_ <- read_csv(url, col_types = cols(\n",
    "  city = col_character(),\n",
    "  year = col_character(),\n",
    "  PM10 = col_double(),\n",
    "  SO2 = col_double(),\n",
    "  NOx = col_double(),\n",
    "  pop_density = col_double(),\n",
    "  GRP_pc = col_double(),\n",
    "  second_industry = col_double(),\n",
    "  gas_supply = col_double(),\n",
    "  green_coveraged = col_double(),\n",
    "  post = col_character(),\n",
    "  key_regions = col_character())\n",
    "               )  %>% \n",
    "mutate_if(is.character, as.factor) %>%\n",
    "mutate(\n",
    "    post = relevel(post, ref='0'),\n",
    "    key_regions = relevel(key_regions, ref='0'),\n",
    "    ## For explanation purpose. Kunming is not in key region\n",
    "    city = relevel(city, ref='Kunming')\n",
    "    \n",
    "    )\n",
    "\n",
    "summary(felm(formula=log(PM10) ~  post * key_regions  |\n",
    "             city | 0 |FALSE, data = df_, exactDOF=TRUE))"
   ]
  },
  {
   "cell_type": "markdown",
   "metadata": {},
   "source": [
    "## Add control\n",
    "\n",
    "$$ \\text{ln PM 10}_{ci} = \\alpha Post + \\beta \\text{ key region}+ \\alpha Post \\times \\text{key region} + X_{ct} + \\gamma_c + \\epsilon_{ct}$$"
   ]
  },
  {
   "cell_type": "code",
   "execution_count": null,
   "metadata": {},
   "outputs": [],
   "source": [
    "summary(felm(formula=log(PM10) ~ post *  key_regions + \n",
    "             log(pop_density)|\n",
    "             city| 0 |FALSE, data = df_, exactDOF=TRUE))"
   ]
  },
  {
   "cell_type": "code",
   "execution_count": null,
   "metadata": {},
   "outputs": [],
   "source": [
    "summary(felm(formula=log(PM10) ~ post *  key_regions + \n",
    "             log(pop_density) + log(GRP_pc)|\n",
    "             city| 0 |FALSE, data = df_, exactDOF=TRUE))"
   ]
  },
  {
   "cell_type": "code",
   "execution_count": null,
   "metadata": {},
   "outputs": [],
   "source": [
    "summary(felm(formula=log(PM10) ~ post *  key_regions + \n",
    "             log(pop_density) + log(GRP_pc) + log(second_industry)|\n",
    "             city| 0 |FALSE, data = df_, exactDOF=TRUE))"
   ]
  }
 ],
 "metadata": {
  "kernelspec": {
   "display_name": "R",
   "language": "R",
   "name": "ir"
  },
  "language_info": {
   "codemirror_mode": "r",
   "file_extension": ".r",
   "mimetype": "text/x-r-source",
   "name": "R",
   "pygments_lexer": "r",
   "version": "3.5.1"
  },
  "sos": {
   "kernels": [
    [
     "SoS",
     "sos",
     "",
     ""
    ]
   ],
   "version": "0.20.6"
  }
 },
 "nbformat": 4,
 "nbformat_minor": 4
}
